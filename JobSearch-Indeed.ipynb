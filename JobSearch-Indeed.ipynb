{
 "cells": [
  {
   "cell_type": "markdown",
   "metadata": {},
   "source": [
    "## Overview"
   ]
  },
  {
   "cell_type": "markdown",
   "metadata": {},
   "source": [
    "#### This tool would go through all the jobs in a particular city or cities and add those ones to a list that require particular skills that match with the user's skillset. All of the code is written in the form of functions in order to change parameters,search terms or the number of pages we want to search.\n",
    "\n"
   ]
  },
  {
   "cell_type": "markdown",
   "metadata": {},
   "source": [
    "##### job_score is the score of a job based on the specific keywords we want the job description to contain. Some of the key words are like Python, SQL, R, SAS, Machine Learning, Tableau"
   ]
  },
  {
   "cell_type": "code",
   "execution_count": 1,
   "metadata": {
    "collapsed": true
   },
   "outputs": [],
   "source": [
    "#importing the necessary libraries\n",
    "import requests\n",
    "import bs4\n",
    "import re\n",
    "import time\n",
    "import smtplib\n",
    "\n",
    "#Defining a function that would score a job based on the specific keywords you want the job description to contain\n",
    "def job_score(url):\n",
    "    \n",
    "    #obtaining the html script\n",
    "    htmlcomplete = requests.get(url)\n",
    "    htmlcontent = bs4.BeautifulSoup(htmlcomplete.content, 'lxml')\n",
    "    htmlbody = htmlcontent('body')[0]\n",
    "    \n",
    "    #finding all the keywords\n",
    "    r = len(re.findall('R[\\,\\.]', htmlbody.text))\n",
    "    sql = htmlbody.text.count('sql')+htmlbody.text.count('Sql')+htmlbody.text.count('SQL')\n",
    "    python = htmlbody.text.count('python')+htmlbody.text.count('Python')\n",
    "    hadoop = htmlbody.text.count('hadoop')+htmlbody.text.count('Hadoop')+htmlbody.text.count('HADOOP')\n",
    "    tableau = htmlbody.text.count('tableau')+htmlbody.text.count('Tableau')\n",
    "    total=r+python+sql+hadoop+tableau\n",
    "    print ('R count:', r, ',','Python count:', python, ',','SQL count:', sql, ',','Hadoop count:', hadoop, ',','Tableau count:', tableau, ',',)\n",
    "    return total"
   ]
  },
  {
   "cell_type": "markdown",
   "metadata": {},
   "source": [
    "### Example: job_score of a job"
   ]
  },
  {
   "cell_type": "code",
   "execution_count": 2,
   "metadata": {},
   "outputs": [
    {
     "name": "stdout",
     "output_type": "stream",
     "text": [
      "R count: 1 , Python count: 0 , SQL count: 0 , Hadoop count: 0 , Tableau count: 1 ,\n"
     ]
    },
    {
     "data": {
      "text/plain": [
       "2"
      ]
     },
     "execution_count": 2,
     "metadata": {},
     "output_type": "execute_result"
    }
   ],
   "source": [
    "job_score('https://www.indeed.com/viewjob?jk=6bf736094f9552d9&tk=1ck7sb1n05u8m89o&from=serp&vjs=3')"
   ]
  },
  {
   "cell_type": "markdown",
   "metadata": {},
   "source": [
    "### Looking at the HTML script to know how it is structured and where is the relevant information located"
   ]
  },
  {
   "cell_type": "code",
   "execution_count": null,
   "metadata": {},
   "outputs": [],
   "source": [
    "#This section of the code lets you see the html script so that you can understand the structure and what information can be extracted from which part of the script \n",
    "URL = 'https://www.indeed.com/jobs?q=data+scientist&l='\n",
    "\n",
    "#conducting a request of the stated URL above:\n",
    "complete = requests.get(URL)\n",
    "\n",
    "#specifying a desired format of “page” using the html parser - this allows python to read the various components of the page, rather than treating it as one long string.\n",
    "content = bs4.BeautifulSoup(complete.text, 'html.parser')\n",
    "\n",
    "#printing soup in a more structured tree format that makes for easier reading\n",
    "print(content.prettify())"
   ]
  },
  {
   "cell_type": "markdown",
   "metadata": {},
   "source": [
    "### Extracting the related job data from the HTML script  like \n"
   ]
  },
  {
   "cell_type": "markdown",
   "metadata": {},
   "source": [
    "##### Name of the company, Date when the job was posted, Job Title, Hyperlink to the job"
   ]
  },
  {
   "cell_type": "code",
   "execution_count": 3,
   "metadata": {
    "collapsed": true
   },
   "outputs": [],
   "source": [
    "def jobdata(url):\n",
    "    htmlcomplete2 = requests.get(url)\n",
    "    htmlcontent2 = bs4.BeautifulSoup(htmlcomplete2.content, 'lxml')\n",
    "    #only getting the tags for organic job postings and not the ones that are sponsored\n",
    "    tags = htmlcontent2.find_all('div', {'data-tn-component' : \"organicJob\"})\n",
    "    #getting the list of companies that have the organic job posting tags\n",
    "    companies = [x.span.text for x in tags]\n",
    "    #extracting the features like the company name, complete link, date, etc.\n",
    "    attributes = [x.h2.a.attrs for x in tags]\n",
    "    dates = [x.find_all('span', {'class':'date'}) for x in tags]\n",
    "    \n",
    "    # update attributes dictionaries with company name and date posted\n",
    "    [attributes[i].update({'company': companies[i].strip()}) for i, x in enumerate(attributes)]\n",
    "    [attributes[i].update({'date posted': dates[i][0].text.strip()}) for i, x in enumerate(attributes)]\n",
    "    return attributes"
   ]
  },
  {
   "cell_type": "markdown",
   "metadata": {},
   "source": [
    "#### Sample of the attribute dictionary for the first job on the page\n"
   ]
  },
  {
   "cell_type": "code",
   "execution_count": 4,
   "metadata": {},
   "outputs": [
    {
     "data": {
      "text/plain": [
       "{'class': ['turnstileLink'],\n",
       " 'company': 'Jvion',\n",
       " 'data-tn-element': 'jobTitle',\n",
       " 'date posted': '10 days ago',\n",
       " 'href': '/company/Jvion/jobs/Junior-Data-Scientist-15a4facb3700bd14?fccid=357536219ef998c7&vjs=3',\n",
       " 'onclick': 'setRefineByCookie([]); return rclk(this,jobmap[0],true,1);',\n",
       " 'onmousedown': 'return rclk(this,jobmap[0],1);',\n",
       " 'rel': ['noopener', 'nofollow'],\n",
       " 'target': '_blank',\n",
       " 'title': 'Jr. Data Scientist'}"
      ]
     },
     "execution_count": 4,
     "metadata": {},
     "output_type": "execute_result"
    }
   ],
   "source": [
    "jobdata('https://www.indeed.com/jobs?q=data+scientist&l=')[0]\n"
   ]
  },
  {
   "cell_type": "markdown",
   "metadata": {},
   "source": [
    "#### List of cities in which we want to search for jobs"
   ]
  },
  {
   "cell_type": "code",
   "execution_count": 5,
   "metadata": {
    "collapsed": true
   },
   "outputs": [],
   "source": [
    "#defining a list of cities you want to search jobs in\n",
    "citylist = ['New+York','Chicago', 'Austin', 'San+Francisco', 'Seattle']#, 'Los+Angeles', 'Philadelphia', 'Atlanta', 'Dallas', 'Pittsburgh', 'Portland', 'Phoenix', 'Denver', 'Houston', 'Miami', 'Washington+DC', 'Boulder']"
   ]
  },
  {
   "cell_type": "markdown",
   "metadata": {},
   "source": [
    "#### looping through Indeed.com and applying the functions defined above to every page"
   ]
  },
  {
   "cell_type": "code",
   "execution_count": 6,
   "metadata": {
    "collapsed": true
   },
   "outputs": [],
   "source": [
    "#defining a list to store all the relevant jobs\n",
    "newjobslist = []\n",
    "\n",
    "#defining a new function to go through all the jobs posted in the last 'n' days for a specific role\n",
    "#essentially looping over 2 \n",
    "def newjobs(daysago = 1, startingpage = 0, pagelimit = 20, position = 'data+scientist'):\n",
    "    for city in citylist:\n",
    "        indeed_url = 'http://www.indeed.com/jobs?q={0}&l={1}&sort=date&start='.format(position, city)\n",
    "        \n",
    "        \n",
    "        for i in range(startingpage, startingpage + pagelimit):\n",
    "            print ('URL:', str(indeed_url + str(i*10)), '\\n')\n",
    "        \n",
    "            attributes = jobdata(indeed_url + str(i*10))\n",
    "            \n",
    "            for j in range(0, len(attributes)):\n",
    "                href = attributes[j]['href']\n",
    "                title = attributes[j]['title']\n",
    "                company = attributes[j]['company']\n",
    "                date_posted = attributes[j]['date posted']\n",
    "                \n",
    "                print (repr(company),',', repr(title),',', repr(date_posted))\n",
    "                \n",
    "                evaluation = job_score('http://indeed.com' + href)\n",
    "                \n",
    "                if evaluation >= 1:\n",
    "                    newjobslist.append('{0}, {1}, {2}, {3}'.format(company, title, city, 'http://indeed.com' + href))\n",
    "                    \n",
    "                print ('\\n')\n",
    "                \n",
    "            time.sleep(1)\n",
    "           \n",
    "    newjobsstring = '\\n\\n'.join(newjobslist)\n",
    "    return newjobsstring"
   ]
  },
  {
   "cell_type": "markdown",
   "metadata": {},
   "source": [
    "#### Sending an email to myself using the smtplib library"
   ]
  },
  {
   "cell_type": "code",
   "execution_count": 7,
   "metadata": {
    "collapsed": true
   },
   "outputs": [],
   "source": [
    "def emailme(from_addr = 'praneeth.bomma401@gmail.com', to_addr = 'pbomma@uncc.edu', subject = 'Daily Data Science Jobs Update Scraped from Indeed', text = None):\n",
    "    \n",
    "    message = 'Subject: {0}\\n\\nJobs: {1}'.format(subject, text)\n",
    "\n",
    "    # login information\n",
    "    username = '******'\n",
    "    password = '******'\n",
    "    \n",
    "    # send the message\n",
    "    server = smtplib.SMTP('smtp.gmail.com:587')\n",
    "    server.ehlo()\n",
    "    server.starttls()\n",
    "    server.ehlo\n",
    "    server.login(username, password)\n",
    "    server.sendmail(from_addr, to_addr, message)\n",
    "    server.quit()\n",
    "    print ('Please check your mail')"
   ]
  },
  {
   "cell_type": "code",
   "execution_count": 8,
   "metadata": {
    "collapsed": true
   },
   "outputs": [],
   "source": [
    "def main():\n",
    "    print ('Searching for jobs...')\n",
    "\n",
    "    starting_page = 0\n",
    "    page_limit = 1\n",
    "    datascientist = newjobs(position = 'data+scientist', startingpage = starting_page, pagelimit = page_limit)\n",
    "    emailme(text = datascientist)"
   ]
  },
  {
   "cell_type": "code",
   "execution_count": null,
   "metadata": {},
   "outputs": [
    {
     "name": "stdout",
     "output_type": "stream",
     "text": [
      "Searching for jobs...\n",
      "URL: http://www.indeed.com/jobs?q=data+scientist&l=New+York&sort=date&start=0 \n",
      "\n",
      "'Alliant Insight' , 'Associate Data Scientist' , 'Just posted'\n",
      "R count: 0 , Python count: 1 , SQL count: 1 , Hadoop count: 1 , Tableau count: 0 ,\n",
      "\n",
      "\n",
      "'Alliant Insight' , 'Data Scientist' , 'Just posted'\n",
      "R count: 0 , Python count: 1 , SQL count: 1 , Hadoop count: 1 , Tableau count: 0 ,\n",
      "\n",
      "\n",
      "'HR Pundits' , 'Sr Java Technical Resource with Data Analysis' , 'Just posted'\n",
      "R count: 0 , Python count: 0 , SQL count: 1 , Hadoop count: 0 , Tableau count: 0 ,\n",
      "\n",
      "\n",
      "'Regeneron' , 'Scientist / Staff Scientist, Anti-Tumor Immunotherapy Development' , 'Just posted'\n",
      "R count: 0 , Python count: 0 , SQL count: 0 , Hadoop count: 0 , Tableau count: 0 ,\n",
      "\n",
      "\n",
      "'Benenson Strategy Group' , 'Market Research Analyst (Corporate)' , 'Just posted'\n",
      "R count: 0 , Python count: 0 , SQL count: 0 , Hadoop count: 0 , Tableau count: 0 ,\n",
      "\n",
      "\n",
      "'CORE Environmental Consultants' , 'Environmental Scientist/Engineer' , 'Just posted'\n",
      "R count: 0 , Python count: 0 , SQL count: 0 , Hadoop count: 0 , Tableau count: 0 ,\n",
      "\n",
      "\n",
      "'SGA' , 'Quantitative Analyst' , 'Just posted'\n",
      "R count: 1 , Python count: 2 , SQL count: 2 , Hadoop count: 0 , Tableau count: 0 ,\n",
      "\n",
      "\n",
      "'BuzzFeed' , 'Senior Product Manager, Ad Products' , 'Just posted'\n",
      "R count: 0 , Python count: 0 , SQL count: 0 , Hadoop count: 0 , Tableau count: 0 ,\n",
      "\n",
      "\n",
      "'S&P Global Ratings' , 'Junior Data Scientist' , 'Today'\n",
      "R count: 0 , Python count: 0 , SQL count: 0 , Hadoop count: 0 , Tableau count: 0 ,\n",
      "\n",
      "\n",
      "'PepsiCo' , 'Senior Data Scientist/Machine Learning Engineer' , 'Today'\n",
      "R count: 0 , Python count: 2 , SQL count: 1 , Hadoop count: 0 , Tableau count: 0 ,\n",
      "\n",
      "\n",
      "URL: http://www.indeed.com/jobs?q=data+scientist&l=Chicago&sort=date&start=0 \n",
      "\n",
      "'Nielsen' , 'Sr. Data Scientist' , 'Just posted'\n",
      "R count: 0 , Python count: 3 , SQL count: 2 , Hadoop count: 1 , Tableau count: 0 ,\n",
      "\n",
      "\n",
      "'Ann & Robert H. Lurie Children’s Hospital of Chica...' , 'Clinical and Academic Coordinator' , 'Just posted'\n",
      "R count: 0 , Python count: 0 , SQL count: 0 , Hadoop count: 0 , Tableau count: 0 ,\n",
      "\n",
      "\n",
      "'Abbott Laboratories' , 'ADD R&D Scientist - Bioconjugation' , 'Today'\n",
      "R count: 0 , Python count: 0 , SQL count: 0 , Hadoop count: 0 , Tableau count: 0 ,\n",
      "\n",
      "\n",
      "'KPMG' , 'Senior Associate, Fixed Assets' , 'Today'\n",
      "R count: 0 , Python count: 0 , SQL count: 0 , Hadoop count: 0 , Tableau count: 0 ,\n",
      "\n",
      "\n",
      "'Knowles' , 'Data Scientist' , 'Today'\n",
      "R count: 1 , Python count: 2 , SQL count: 1 , Hadoop count: 0 , Tableau count: 0 ,\n",
      "\n",
      "\n",
      "'Mindshare' , 'Planning Associate' , 'Today'\n",
      "R count: 0 , Python count: 0 , SQL count: 0 , Hadoop count: 0 , Tableau count: 0 ,\n",
      "\n",
      "\n",
      "'NORC at the University of Chicago' , 'Data Scientist' , '1 day ago'\n",
      "R count: 1 , Python count: 2 , SQL count: 1 , Hadoop count: 1 , Tableau count: 1 ,\n",
      "\n",
      "\n",
      "'e.biT Consulting' , 'Machine Learning Data Scientist' , '1 day ago'\n",
      "R count: 1 , Python count: 2 , SQL count: 5 , Hadoop count: 0 , Tableau count: 1 ,\n",
      "\n",
      "\n",
      "'Uptake' , 'Data Scientist Lead (Manager or Director Level position)' , '1 day ago'\n",
      "R count: 1 , Python count: 1 , SQL count: 0 , Hadoop count: 0 , Tableau count: 0 ,\n",
      "\n",
      "\n",
      "'McKinsey & Company' , 'Analyst - Periscope Advanced Insights - Growth Mapping' , '1 day ago'\n",
      "R count: 0 , Python count: 0 , SQL count: 0 , Hadoop count: 0 , Tableau count: 0 ,\n",
      "\n",
      "\n",
      "URL: http://www.indeed.com/jobs?q=data+scientist&l=Austin&sort=date&start=0 \n",
      "\n",
      "'Zdaly' , 'Principal Data Scientist' , 'Today'\n",
      "R count: 0 , Python count: 1 , SQL count: 2 , Hadoop count: 0 , Tableau count: 0 ,\n",
      "\n",
      "\n",
      "'Code Pilot' , 'Data Scientist, Austin' , '2 days ago'\n",
      "R count: 1 , Python count: 1 , SQL count: 2 , Hadoop count: 0 , Tableau count: 0 ,\n",
      "\n",
      "\n",
      "'Electronic Arts' , 'Data Scientist' , '2 days ago'\n",
      "R count: 0 , Python count: 1 , SQL count: 0 , Hadoop count: 0 , Tableau count: 0 ,\n",
      "\n",
      "\n",
      "'Natera' , 'Insurance Verification Specialist' , '2 days ago'\n",
      "R count: 0 , Python count: 0 , SQL count: 0 , Hadoop count: 0 , Tableau count: 0 ,\n",
      "\n",
      "\n",
      "'Kasasa' , 'Data Product Manager' , '2 days ago'\n",
      "R count: 0 , Python count: 0 , SQL count: 0 , Hadoop count: 0 , Tableau count: 0 ,\n",
      "\n",
      "\n",
      "'University of Texas at Austin' , 'Research Engineering/ Scientist Assistant - Laboratory Technician' , '2 days ago'\n",
      "R count: 0 , Python count: 0 , SQL count: 0 , Hadoop count: 0 , Tableau count: 0 ,\n",
      "\n",
      "\n",
      "'Klein Management Systems' , 'Front-End Developer' , '2 days ago'\n",
      "R count: 0 , Python count: 0 , SQL count: 0 , Hadoop count: 0 , Tableau count: 0 ,\n",
      "\n",
      "\n",
      "'Sensoleak' , 'Data Scientist: Advanced Statistics/ Analytics/ Machine Learning' , '3 days ago'\n",
      "R count: 0 , Python count: 3 , SQL count: 0 , Hadoop count: 0 , Tableau count: 0 ,\n",
      "\n",
      "\n",
      "'Dropbox' , 'CX - Data Science Lead' , '3 days ago'\n",
      "R count: 0 , Python count: 2 , SQL count: 1 , Hadoop count: 0 , Tableau count: 0 ,\n",
      "\n",
      "\n",
      "'City of Austin' , 'Environmental Scientist and Environmental Scientist Senior' , '3 days ago'\n",
      "R count: 0 , Python count: 0 , SQL count: 0 , Hadoop count: 0 , Tableau count: 0 ,\n",
      "\n",
      "\n",
      "URL: http://www.indeed.com/jobs?q=data+scientist&l=San+Francisco&sort=date&start=0 \n",
      "\n",
      "'Keep Truckin' , 'Lead Data Scientist' , 'Just posted'\n",
      "R count: 1 , Python count: 1 , SQL count: 1 , Hadoop count: 0 , Tableau count: 0 ,\n",
      "\n",
      "\n",
      "'Zendrive, Inc.' , 'Head of Data Science' , 'Just posted'\n",
      "R count: 0 , Python count: 1 , SQL count: 0 , Hadoop count: 1 , Tableau count: 0 ,\n",
      "\n",
      "\n",
      "'Leap.ai' , 'Machine Learning Engineer' , 'Just posted'\n",
      "R count: 0 , Python count: 0 , SQL count: 0 , Hadoop count: 0 , Tableau count: 0 ,\n",
      "\n",
      "\n",
      "'Natera' , 'Clinical Data Operator 3' , 'Just posted'\n",
      "R count: 0 , Python count: 0 , SQL count: 0 , Hadoop count: 0 , Tableau count: 0 ,\n",
      "\n",
      "\n",
      "'Talener' , 'Director of Machine Learning' , 'Just posted'\n",
      "R count: 0 , Python count: 0 , SQL count: 0 , Hadoop count: 0 , Tableau count: 0 ,\n",
      "\n",
      "\n",
      "'Grand Rounds' , 'Senior Analyst' , 'Just posted'\n",
      "R count: 0 , Python count: 1 , SQL count: 1 , Hadoop count: 0 , Tableau count: 0 ,\n",
      "\n",
      "\n",
      "'Helpshift' , 'Data Scientist' , 'Today'\n",
      "R count: 0 , Python count: 2 , SQL count: 0 , Hadoop count: 1 , Tableau count: 0 ,\n",
      "\n",
      "\n",
      "'Bristol-Myers Squibb' , 'Immunohistochemistry Scientist' , 'Today'\n",
      "R count: 0 , Python count: 0 , SQL count: 0 , Hadoop count: 0 , Tableau count: 0 ,\n",
      "\n",
      "\n",
      "'Nuna' , 'Sr. Software Engineer, Government Services' , 'Today'\n",
      "R count: 2 , Python count: 1 , SQL count: 1 , Hadoop count: 2 , Tableau count: 0 ,\n",
      "\n",
      "\n",
      "'Redfish Technology - High Tech Executive Recruiter...' , 'Senior Data Quality Engineer Machine Learning / Speech Analytics / NLU' , 'Today'\n",
      "R count: 1 , Python count: 2 , SQL count: 0 , Hadoop count: 0 , Tableau count: 0 ,\n",
      "\n",
      "\n",
      "URL: http://www.indeed.com/jobs?q=data+scientist&l=Seattle&sort=date&start=0 \n",
      "\n",
      "'HR2 Research and Analytics, Inc.' , 'Market Research Analyst' , 'Just posted'\n",
      "R count: 0 , Python count: 0 , SQL count: 0 , Hadoop count: 0 , Tableau count: 0 ,\n",
      "\n",
      "\n",
      "'Maana' , 'Research Software Development Engineer in Artificial Intelligence (Req. 10064)' , 'Just posted'\n",
      "R count: 0 , Python count: 0 , SQL count: 0 , Hadoop count: 0 , Tableau count: 0 ,\n",
      "\n",
      "\n",
      "'Kaiser Permanente Washington Health Research Insti...' , 'Researcher in Bio statistics' , 'Today'\n",
      "R count: 0 , Python count: 0 , SQL count: 0 , Hadoop count: 0 , Tableau count: 0 ,\n",
      "\n",
      "\n",
      "'Amazon.com' , 'Sr. Research Scientist' , 'Today'\n",
      "R count: 3 , Python count: 5 , SQL count: 2 , Hadoop count: 0 , Tableau count: 2 ,\n",
      "\n",
      "\n",
      "'CDK Global' , 'Lead Business Intelligence Data Analyst - BI Team Manager' , 'Today'\n",
      "R count: 0 , Python count: 1 , SQL count: 1 , Hadoop count: 0 , Tableau count: 1 ,\n",
      "\n",
      "\n",
      "'Posh Technologies' , 'SDE-Machine Learning' , '1 day ago'\n",
      "R count: 0 , Python count: 0 , SQL count: 0 , Hadoop count: 0 , Tableau count: 0 ,\n",
      "\n",
      "\n",
      "'Quest Diagnostics' , 'Lab I Assoc' , '1 day ago'\n",
      "R count: 0 , Python count: 0 , SQL count: 0 , Hadoop count: 0 , Tableau count: 0 ,\n",
      "\n",
      "\n",
      "'University of Washington' , 'RESEARCH SCIENTIST 2' , '1 day ago'\n",
      "R count: 0 , Python count: 0 , SQL count: 0 , Hadoop count: 0 , Tableau count: 0 ,\n",
      "\n",
      "\n",
      "'CDK Global' , 'Sales Executive' , '1 day ago'\n",
      "R count: 0 , Python count: 0 , SQL count: 0 , Hadoop count: 0 , Tableau count: 0 ,\n",
      "\n",
      "\n",
      "'Unity Technologies' , 'Senior Machine Learning Engineer' , '1 day ago'\n",
      "R count: 0 , Python count: 0 , SQL count: 0 , Hadoop count: 0 , Tableau count: 0 ,\n",
      "\n",
      "\n"
     ]
    }
   ],
   "source": [
    "main()\n"
   ]
  },
  {
   "cell_type": "code",
   "execution_count": null,
   "metadata": {
    "collapsed": true
   },
   "outputs": [],
   "source": []
  }
 ],
 "metadata": {
  "kernelspec": {
   "display_name": "Python 3",
   "language": "python",
   "name": "python3"
  },
  "language_info": {
   "codemirror_mode": {
    "name": "ipython",
    "version": 3
   },
   "file_extension": ".py",
   "mimetype": "text/x-python",
   "name": "python",
   "nbconvert_exporter": "python",
   "pygments_lexer": "ipython3",
   "version": "3.6.3"
  }
 },
 "nbformat": 4,
 "nbformat_minor": 2
}
